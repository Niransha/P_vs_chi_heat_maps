{
 "cells": [
  {
   "cell_type": "code",
   "execution_count": 2,
   "metadata": {},
   "outputs": [],
   "source": [
    "#pip install colour"
   ]
  },
  {
   "cell_type": "code",
   "execution_count": 3,
   "metadata": {},
   "outputs": [],
   "source": [
    "# Imports\n",
    "from __future__ import division\n",
    "import numpy as np\n",
    "import pandas as pd\n",
    "from pandas import DataFrame, Series\n",
    "import matplotlib.pyplot as plt\n",
    "from scipy.stats import pearsonr\n",
    "import scipy, pylab\n",
    "import seaborn as sns\n",
    "import re\n",
    "import glob\n",
    "import time\n",
    "import datetime\n",
    "#sns.set(style='ticks', palette='Set2')\n",
    "%matplotlib inline"
   ]
  },
  {
   "cell_type": "code",
   "execution_count": 4,
   "metadata": {},
   "outputs": [],
   "source": [
    "#!python --version"
   ]
  },
  {
   "cell_type": "code",
   "execution_count": 5,
   "metadata": {},
   "outputs": [
    {
     "data": {
      "text/plain": [
       "'0.12.2'"
      ]
     },
     "execution_count": 5,
     "metadata": {},
     "output_type": "execute_result"
    }
   ],
   "source": [
    "sns.__version__"
   ]
  },
  {
   "cell_type": "code",
   "execution_count": 6,
   "metadata": {},
   "outputs": [],
   "source": [
    "#!pwd"
   ]
  },
  {
   "cell_type": "code",
   "execution_count": null,
   "metadata": {},
   "outputs": [],
   "source": []
  },
  {
   "cell_type": "code",
   "execution_count": 7,
   "metadata": {},
   "outputs": [
    {
     "data": {
      "image/png": "[encoded data removed]",
      "text/plain": [
       "<Figure size 1080x216 with 1 Axes>"
      ]
     },
     "metadata": {},
     "output_type": "display_data"
    }
   ],
   "source": [
    "def make_Ramp( ramp_colors ): \n",
    "    from colour import Color\n",
    "    from matplotlib.colors import LinearSegmentedColormap\n",
    "\n",
    "    color_ramp = LinearSegmentedColormap.from_list( 'my_list', [ Color( c1 ).rgb for c1 in ramp_colors ] )\n",
    "    plt.figure( figsize = (15,3))\n",
    "    plt.imshow( [list(np.arange(0, len( ramp_colors ) , 0.1)) ] , interpolation='nearest', origin='lower', cmap= color_ramp )\n",
    "    plt.xticks([])\n",
    "    plt.yticks([])\n",
    "    return color_ramp\n",
    "\n",
    "#custom_ramp = make_Ramp( ['#0000ff','#00ffff','#ffff00','#ff0000' ] ) \n",
    "#custom_ramp = make_Ramp( ['#32369c','#00ff00','#ffff00','#ff0000' ] ) \n",
    "#custom_ramp = make_Ramp( ['#00f3ff','#68ff00','#ffbf00','#ff005c' ] ) \n",
    "#custom_ramp = make_Ramp( ['#00188f','#00bcf2','#00b294','#009e49','#bad80a', '#fff100', '#ff8c00','#e81123','#ec008c', '#68217a' ] ) \n",
    "custom_ramp = make_Ramp( ['#00188f','#00bcf2','#00b294','#009e49','#bad80a', '#fff100', '#ff8c00','#e81123','#ec008c' ] ) \n",
    "\n"
   ]
  },
  {
   "cell_type": "code",
   "execution_count": null,
   "metadata": {},
   "outputs": [],
   "source": []
  },
  {
   "cell_type": "markdown",
   "metadata": {},
   "source": [
    "# single run"
   ]
  },
  {
   "cell_type": "code",
   "execution_count": null,
   "metadata": {},
   "outputs": [
    {
     "name": "stdout",
     "output_type": "stream",
     "text": [
      "/mnt/rna/home/nkumarachchi2019/dev_1d_ABGEZ_benckmark_systems/ABGEZ_newv1v3chi_betacomb4/monomers/C/combine/P_vs_chi.dat\n",
      "['', 'mnt', 'rna', 'home', 'nkumarachchi2019', 'dev', '1d', 'ABGEZ', 'benckmark', 'systems', 'ABGEZ', 'newv1v3chi', 'betacomb4', 'monomers', 'C', 'combine', 'P', 'vs', 'chi', 'dat']\n",
      "P chi C\n"
     ]
    }
   ],
   "source": [
    "import datetime\n",
    "import glob\n",
    "import pandas as pd\n",
    "import re\n",
    "import seaborn as sns\n",
    "import matplotlib.pyplot as plt\n",
    "import numpy as np\n",
    "\n",
    "t_start = datetime.datetime.now()\n",
    "sdegree = ' (°)'\n",
    "\n",
    "counter = 0\n",
    "for filepath in glob.iglob('/mnt/rna/home/nkumarachchi2019/dev_1d_ABGEZ_benckmark_systems/ABGEZ_newv1v3chi_betacomb4/monomers/C/combine/P_vs_chi.dat'):\n",
    "    print(filepath)\n",
    "    df = pd.read_csv(filepath, delim_whitespace=True)\n",
    "\n",
    "    a = re.split(';|\\.|/| |,|_|\\t+| +|\\*|\\n', filepath)\n",
    "    print(a)\n",
    "    xname = a[16]\n",
    "    yname = a[18]\n",
    "    dimername = a[14]\n",
    "    print(xname, yname, dimername)\n",
    "\n",
    "    plt.style.use(\"seaborn-whitegrid\")\n",
    "    plt.figure(figsize=(5,5)) \n",
    "\n",
    "    ax = sns.kdeplot(data=df, x='P_value', y='chi_value', fill=False, thresh=0, levels=20, cmap=custom_ramp, common_norm=True, cbar=True, cbar_kws={'format': '%2.1e', 'label': 'kernel density'})\n",
    "\n",
    "    plt.title(f\"{yname} vs {xname} - {dimername}\", size=20)\n",
    "    plt.xlabel(xname +str(sdegree), fontsize=20)\n",
    "    plt.ylabel(yname +str(sdegree), fontsize=20)\n",
    "    plt.xlim([0, 360])\n",
    "    plt.ylim([0, 360])\n",
    "    ax.set_yticks(np.arange(0, 361, 30))\n",
    "    ax.set_xticks(np.arange(0, 361, 30))\n",
    "    ax.patch.set_edgecolor('black')\n",
    "    ax.patch.set_linewidth('3')\n",
    "\n",
    "    plt.savefig(f'/mnt/rna/home/nkumarachchi2019/dev_1d_ABGEZ_benckmark_systems/ABGEZ_newv1v3chi_betacomb4/monomers/C/combine/'+str(xname)+'_'+str(yname)+'_'+str(dimername), bbox_inches='tight', dpi=300)\n",
    "\n",
    "    counter += 1\n",
    "    print(counter)\n",
    "\n",
    "t_end = datetime.datetime.now()\n",
    "elapsedTime = (t_end - t_start)\n",
    "\n",
    "print(elapsedTime.total_seconds())\n",
    "\n",
    "\n"
   ]
  },
  {
   "cell_type": "markdown",
   "metadata": {},
   "source": [
    "# with subplots no need here"
   ]
  },
  {
   "cell_type": "markdown",
   "metadata": {},
   "source": [
    "#change cell type to code cell > cell type > code"
   ]
  },
  {
   "cell_type": "markdown",
   "metadata": {},
   "source": [
    "t_start = datetime.datetime.now()\n",
    "\n",
    "\n",
    "dimtypes = [\"stems\", \"bulges\", \"hairpins\", \"sstrands\", \"iloops\", \"junctions\", ]\n",
    "\n",
    "counter=0\n",
    "for filepath in glob.iglob('/mnt/rna/home/nkumarachchi2019/scratch/project_dimer_extraction/2dplots_2d_data/zeta/2d_*.dat'):\n",
    "#for filepath in glob.iglob('/mnt/rna/home/nkumarachchi2019/scratch/project_dimer_extraction/2dplots_2d_data/XXXXX/x2d_*'):\n",
    "#/\n",
    "  \n",
    "  print(filepath)\n",
    "  df= pd.read_csv(filepath, header = None, delim_whitespace=True,)\n",
    "\n",
    "  a=re.split(';|\\.|/| |,|_|\\t+| +|\\*|\\n',filepath)\n",
    "  print(a)\n",
    "  xname=a[15]\n",
    "  yname=a[16] \n",
    "  dimername=a[17]\n",
    "  print(xname,yname,dimername)\n",
    "\n",
    "  plt.style.use(\"seaborn-whitegrid\")\n",
    "  plt.figure(figsize=(22,12))\n",
    "\n",
    "  for i in range(0,6):\n",
    "  #/ \n",
    "    plt.subplot(2,3,i+1)\n",
    "    ax = sns.kdeplot(data=df, x=df.loc[df[2] == dimtypes[i], 0], y=df.loc[df[2] == dimtypes[i], 1], fill=False, thresh=0, levels=20, cmap=custom_ramp, common_norm=True, cbar=True, cbar_kws={'format': '%2.1e', 'label': 'kernel density'} )\n",
    "    plt.title(\"Chart {}: {}\".format(i+1, dimtypes[i]), size=20)\n",
    "    plt.xlabel(str(xname), fontsize=12)\n",
    "    plt.ylabel(str(yname), fontsize=12)\n",
    "    plt.xlim([0, 360])\n",
    "    plt.ylim([0, 360])\n",
    "    ax.set_yticks(np.arange(0,361,30))\n",
    "    ax.set_xticks(np.arange(0,361,30))\n",
    "    ax.patch.set_edgecolor('black')  \n",
    "    ax.patch.set_linewidth('3')  \n",
    "    #plt.setp(ax, xlim=(0, 360), ylim=(0, 360))\n",
    "  #/\n",
    "  plt.suptitle(str(yname)+' vs '+str(xname)+' - '+str(dimername), size=32)\n",
    "\n",
    "  plt.savefig('/mnt/rna/home/nkumarachchi2019/scratch/project_dimer_extraction/2dplots_2d_data/plots/zeta/'+str(xname)+'_'+str(yname)+'_'+str(dimername), bbox_inches='tight', dpi=300 )\n",
    "    \n",
    "  counter+=1\n",
    "  print(counter)\n",
    "\n",
    "#/\n",
    "\n",
    "\n",
    "\n",
    "t_end = datetime.datetime.now()\n",
    "elapsedTime = (t_end - t_start )\n",
    "\n",
    "print(elapsedTime.total_seconds())"
   ]
  },
  {
   "cell_type": "code",
   "execution_count": null,
   "metadata": {},
   "outputs": [],
   "source": []
  }
 ],
 "metadata": {
  "kernelspec": {
   "display_name": "Python 3",
   "language": "python",
   "name": "python3"
  },
  "language_info": {
   "codemirror_mode": {
    "name": "ipython",
    "version": 3
   },
   "file_extension": ".py",
   "mimetype": "text/x-python",
   "name": "python",
   "nbconvert_exporter": "python",
   "pygments_lexer": "ipython3",
   "version": "3.7.7"
  }
 },
 "nbformat": 4,
 "nbformat_minor": 4
}
